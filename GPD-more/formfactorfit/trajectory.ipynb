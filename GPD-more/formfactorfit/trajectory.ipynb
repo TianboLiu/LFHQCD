{
 "cells": [
  {
   "cell_type": "code",
   "execution_count": 1,
   "metadata": {
    "collapsed": true
   },
   "outputs": [],
   "source": [
    "import numpy as np\n",
    "import scipy as sp\n",
    "import matplotlib.pyplot as plt\n",
    "from matplotlib import rc\n",
    "%matplotlib inline\n",
    "rc('font', **{'family':'sans-serif','sans-serif':['Helvetica']})\n",
    "rc('text',usetex=True)\n",
    "from iminuit import Minuit"
   ]
  },
  {
   "cell_type": "markdown",
   "metadata": {},
   "source": [
    "# Chew-Frantschi"
   ]
  },
  {
   "cell_type": "markdown",
   "metadata": {},
   "source": [
    "## Exp values"
   ]
  },
  {
   "cell_type": "code",
   "execution_count": 2,
   "metadata": {
    "collapsed": true
   },
   "outputs": [],
   "source": [
    "data = {}\n",
    "data['pi'] = {'J': np.array([0, 1, 2]),\\\n",
    "              'M': np.array([0.1349770, 1.2295, 1.6722]),\\\n",
    "              'E': np.array([0.0000005, 0.0032, 0.0030])}\n",
    "data['rho'] = {'J': np.array([1, 2, 3, 4, 5, 6]),\\\n",
    "               'M': np.array([0.775, 1.3183, 1.6888, 1.995, 2.330, 2.450]),\n",
    "               'E': np.array([0.00025, 0.0005, 0.0021, 0.010, 0.035, 0.130])}\n",
    "data['omega'] = {'J': np.array([1, 2, 3, 4, 6]),\\\n",
    "                 'M': np.array([0.78265, 1.2755, 1.667, 2.018, 2.469]),\\\n",
    "                 'E': np.array([0.00012, 0.0008, 0.004, 0.011, 0.029])}\n",
    "data['phi'] = {'J': np.array([1, 2, 3]),\\\n",
    "               'M': np.array([1.019461, 1.525, 1.854]),\\\n",
    "               'E': np.array([0.000016, 0.005, 0.007])}"
   ]
  },
  {
   "cell_type": "markdown",
   "metadata": {},
   "source": [
    "## Functions"
   ]
  },
  {
   "cell_type": "code",
   "execution_count": 3,
   "metadata": {
    "collapsed": true
   },
   "outputs": [],
   "source": [
    "def alphat(t, ap, a0):\n",
    "    return a0 + ap * t"
   ]
  },
  {
   "cell_type": "markdown",
   "metadata": {},
   "source": [
    "## Fit"
   ]
  },
  {
   "cell_type": "code",
   "execution_count": 15,
   "metadata": {
    "collapsed": true
   },
   "outputs": [],
   "source": [
    "def chi2(par):\n",
    "    kappa, a0pi, a0rho, a0omega, a0phi = par[0], par[1], par[2], par[3], par[4]\n",
    "    ap = 1.0 / (4.0 * kappa**2)\n",
    "    thypi = (np.array([0, 1, 2]) - a0pi) / ap\n",
    "    thyrho = (np.array([1, 2, 3, 4]) - a0rho) / ap\n",
    "    thyomega = (np.array([1, 2, 3, 4]) - a0omega) / ap\n",
    "    thyphi = (np.array([1, 2, 3]) - a0phi) / ap\n",
    "    result =  0 * np.sum((thypi - data['pi']['M'][:3] ** 2) ** 2)\\\n",
    "            + np.sum((thyrho - data['rho']['M'][:4] ** 2) ** 2) \\\n",
    "            + np.sum((thyomega - data['omega']['M'][:4] ** 2) ** 2) \\\n",
    "            + 0 * np.sum((thyphi - data['phi']['M'][:3] ** 2) ** 2)\n",
    "    return result"
   ]
  },
  {
   "cell_type": "code",
   "execution_count": 16,
   "metadata": {
    "collapsed": true
   },
   "outputs": [],
   "source": [
    "minCF = Minuit.from_array_func(chi2, (0.533662, -0.0159928, 0.5-0.0159928, 0.5-0.0159928, 0.5),\\\n",
    "                               name = ('kappa', 'a0pi', 'a0rho', 'a0omega', 'a0phi'),\\\n",
    "                               error = (0.001, 0.001, 0.001, 0.001, 0.001),\\\n",
    "                               fix = (False, True, False, False, True),\\\n",
    "                               limit = ((None, None), (None, None), (None, None), (None, None), (None, None)),\\\n",
    "                               errordef = 1)"
   ]
  },
  {
   "cell_type": "code",
   "execution_count": 17,
   "metadata": {},
   "outputs": [
    {
     "data": {
      "text/html": [
       "<hr>"
      ]
     },
     "metadata": {},
     "output_type": "display_data"
    },
    {
     "data": {
      "text/html": [
       "<table>\n",
       "    <tr>\n",
       "        <td title=\"Minimum value of function\">FCN = 0.0215078260307</td>\n",
       "        <td title=\"Total number of call to FCN so far\">TOTAL NCALL = 60</td>\n",
       "        <td title=\"Number of call in last migrad\">NCALLS = 60</td>\n",
       "    </tr>\n",
       "    <tr>\n",
       "        <td title=\"Estimated distance to minimum\">EDM = 1.79212287612e-12</td>\n",
       "        <td title=\"Maximum EDM definition of convergence\">GOAL EDM = 1e-10</td>\n",
       "        <td title=\"Error def. Amount of increase in FCN to be defined as 1 standard deviation\">\n",
       "        UP = 1.0</td>\n",
       "    </tr>\n",
       "</table>\n",
       "<table>\n",
       "    <tr>\n",
       "        <td align=\"center\" title=\"Validity of the migrad call\">Valid</td>\n",
       "        <td align=\"center\" title=\"Validity of parameters\">Valid Param</td>\n",
       "        <td align=\"center\" title=\"Is Covariance matrix accurate?\">Accurate Covar</td>\n",
       "        <td align=\"center\" title=\"Positive definiteness of covariance matrix\">PosDef</td>\n",
       "        <td align=\"center\" title=\"Was covariance matrix made posdef by adding diagonal element\">Made PosDef</td>\n",
       "    </tr>\n",
       "    <tr>\n",
       "        <td align=\"center\" style=\"background-color:#92CCA6\">True</td>\n",
       "        <td align=\"center\" style=\"background-color:#92CCA6\">True</td>\n",
       "        <td align=\"center\" style=\"background-color:#92CCA6\">True</td>\n",
       "        <td align=\"center\" style=\"background-color:#92CCA6\">True</td>\n",
       "        <td align=\"center\" style=\"background-color:#92CCA6\">False</td>\n",
       "    </tr>\n",
       "    <tr>\n",
       "        <td align=\"center\" title=\"Was last hesse call fail?\">Hesse Fail</td>\n",
       "        <td align=\"center\" title=\"Validity of covariance\">HasCov</td>\n",
       "        <td align=\"center\" title=\"Is EDM above goal EDM?\">Above EDM</td>\n",
       "        <td align=\"center\"></td>\n",
       "        <td align=\"center\" title=\"Did last migrad call reach max call limit?\">Reach calllim</td>\n",
       "    </tr>\n",
       "    <tr>\n",
       "        <td align=\"center\" style=\"background-color:#92CCA6\">False</td>\n",
       "        <td align=\"center\" style=\"background-color:#92CCA6\">True</td>\n",
       "        <td align=\"center\" style=\"background-color:#92CCA6\">False</td>\n",
       "        <td align=\"center\"></td>\n",
       "        <td align=\"center\" style=\"background-color:#92CCA6\">False</td>\n",
       "    </tr>\n",
       "</table>"
      ]
     },
     "metadata": {},
     "output_type": "display_data"
    },
    {
     "data": {
      "text/html": [
       "<table>\n",
       "    <tr>\n",
       "        <td><a href=\"#\" onclick=\"$('#ANKgQehtLN').toggle()\">+</a></td>\n",
       "        <td title=\"Variable name\">Name</td>\n",
       "        <td title=\"Value of parameter\">Value</td>\n",
       "        <td title=\"Hesse error\">Hesse Error</td>\n",
       "        <td title=\"Minos lower error\">Minos Error-</td>\n",
       "        <td title=\"Minos upper error\">Minos Error+</td>\n",
       "        <td title=\"Lower limit of the parameter\">Limit-</td>\n",
       "        <td title=\"Upper limit of the parameter\">Limit+</td>\n",
       "        <td title=\"Is the parameter fixed in the fit\">Fixed?</td>\n",
       "    </tr>\n",
       "    <tr>\n",
       "        <td>0</td>\n",
       "        <td>kappa</td>\n",
       "        <td>0.533663</td>\n",
       "        <td>0.0740643</td>\n",
       "        <td></td>\n",
       "        <td></td>\n",
       "        <td></td>\n",
       "        <td></td>\n",
       "        <td>No</td>\n",
       "    </tr>\n",
       "    <tr>\n",
       "        <td>1</td>\n",
       "        <td>a0pi</td>\n",
       "        <td>-0.0159928</td>\n",
       "        <td>0.001</td>\n",
       "        <td></td>\n",
       "        <td></td>\n",
       "        <td></td>\n",
       "        <td></td>\n",
       "        <td>Yes</td>\n",
       "    </tr>\n",
       "    <tr>\n",
       "        <td>2</td>\n",
       "        <td>a0rho</td>\n",
       "        <td>0.487459</td>\n",
       "        <td>0.710411</td>\n",
       "        <td></td>\n",
       "        <td></td>\n",
       "        <td></td>\n",
       "        <td></td>\n",
       "        <td>No</td>\n",
       "    </tr>\n",
       "    <tr>\n",
       "        <td>3</td>\n",
       "        <td>a0omega</td>\n",
       "        <td>0.505006</td>\n",
       "        <td>0.706588</td>\n",
       "        <td></td>\n",
       "        <td></td>\n",
       "        <td></td>\n",
       "        <td></td>\n",
       "        <td>No</td>\n",
       "    </tr>\n",
       "    <tr>\n",
       "        <td>4</td>\n",
       "        <td>a0phi</td>\n",
       "        <td>0.5</td>\n",
       "        <td>0.001</td>\n",
       "        <td></td>\n",
       "        <td></td>\n",
       "        <td></td>\n",
       "        <td></td>\n",
       "        <td>Yes</td>\n",
       "    </tr>\n",
       "</table>\n",
       "<pre id=\"ANKgQehtLN\" style=\"display:none;\">\n",
       "<textarea rows=\"16\" cols=\"50\" onclick=\"this.select()\" readonly>\n",
       "\\begin{tabular}{|c|r|r|r|r|r|r|r|c|}\n",
       "\\hline\n",
       " & Name & Value & Hesse Error & Minos Error- & Minos Error+ & Limit- & Limit+ & Fixed?\\\\\n",
       "\\hline\n",
       "0 & $\\kappa$ & 0.533663 & 0.0740643 &  &  &  &  & No\\\\\n",
       "\\hline\n",
       "1 & a0pi & -0.0159928 & 0.001 &  &  &  &  & Yes\\\\\n",
       "\\hline\n",
       "2 & a0rho & 0.487459 & 0.710411 &  &  &  &  & No\\\\\n",
       "\\hline\n",
       "3 & a0omega & 0.505006 & 0.706588 &  &  &  &  & No\\\\\n",
       "\\hline\n",
       "4 & a0phi & 0.5 & 0.001 &  &  &  &  & Yes\\\\\n",
       "\\hline\n",
       "\\end{tabular}\n",
       "</textarea>\n",
       "</pre>"
      ]
     },
     "metadata": {},
     "output_type": "display_data"
    },
    {
     "data": {
      "text/html": [
       "<hr>"
      ]
     },
     "metadata": {},
     "output_type": "display_data"
    }
   ],
   "source": [
    "minCF.tol = 1e-6\n",
    "fmin, par = minCF.migrad(ncall=10000)"
   ]
  },
  {
   "cell_type": "code",
   "execution_count": 68,
   "metadata": {},
   "outputs": [
    {
     "data": {
      "text/plain": [
       "0.015992891551016814"
      ]
     },
     "execution_count": 68,
     "metadata": {},
     "output_type": "execute_result"
    }
   ],
   "source": [
    "da0 = 0.1349770**2 / (4.0 * minCF.values['kappa']**2)\n",
    "da0"
   ]
  },
  {
   "cell_type": "markdown",
   "metadata": {},
   "source": [
    "## plot"
   ]
  },
  {
   "cell_type": "code",
   "execution_count": 71,
   "metadata": {},
   "outputs": [
    {
     "data": {
      "image/png": "[encoded data removed]",
      "text/plain": [
       "<matplotlib.figure.Figure at 0x11b24a590>"
      ]
     },
     "metadata": {},
     "output_type": "display_data"
    }
   ],
   "source": [
    "nrows, ncols = 1, 1\n",
    "\n",
    "fig = plt.figure(figsize = (ncols * 7, nrows * 7 * 0.85))\n",
    "\n",
    "at = 1.0 / (4.0 * minCF.values['kappa']**2)\n",
    "a0pi = 0 - da0\n",
    "a0rho = a0omega = 0.5 - da0\n",
    "a0phi = 0.00960965\n",
    "\n",
    "ax = fig.add_subplot(nrows, ncols, 1)\n",
    "#ax.errorbar(data['pi']['M'] ** 2, data['pi']['J'], xerr = 2.0 * data['pi']['M'] * data['pi']['E'],\\\n",
    "#           marker = 'o', markersize = 5, linestyle = '', color = 'black', capsize = 3)\n",
    "ax.errorbar(data['rho']['M'] ** 2, data['rho']['J'], xerr = 2.0 * data['rho']['M'] * data['rho']['E'],\\\n",
    "           marker = 'o', markersize = 5, linestyle = '', color = 'blue', capsize = 3)\n",
    "ax.errorbar(data['omega']['M'] ** 2, data['omega']['J'], xerr = 2.0 * data['omega']['M'] * data['omega']['E'],\\\n",
    "           marker = 'v', markersize = 5, linestyle = '', color = 'red', capsize = 3)\n",
    "ax.errorbar(data['phi']['M'] ** 2, data['phi']['J'], xerr = 2.0 * data['phi']['M'] * data['phi']['E'],\\\n",
    "           marker = '^', markersize = 5, linestyle = '', color = 'forestgreen', capsize = 3)\n",
    "t = np.linspace(0,7,50)\n",
    "#c0 = ax.plot(t, alphat(t, at, a0pi), linestyle = '-', linewidth = 2, color = 'gray')\n",
    "c1 = ax.plot(t, alphat(t, at, a0rho), linestyle = '-', linewidth = 2, color = 'blue')\n",
    "c2 = ax.plot(t, alphat(t, at, a0omega), linestyle = '--', linewidth = 2, color = 'red')\n",
    "c3 = ax.plot(t, alphat(t, at, a0phi), linestyle = '-', linewidth = 2, color = 'forestgreen')\n",
    "ax.set_xlim(0,7)\n",
    "ax.set_ylim(0,7)\n",
    "ax.set_xlabel(r'$t~\\rm (GeV^2)$', size = 30)\n",
    "ax.set_ylabel(r'$\\alpha(t)$', size = 30)\n",
    "ax.set_xticks(range(8))\n",
    "ax.set_yticks(range(8))\n",
    "ax.tick_params(axis = 'both', which = 'both', direction = 'in', labelsize = 25)\n",
    "L = [(c1[0]), (c2[0]), (c3[0])]\n",
    "H = [r'$\\rho-a$', r'$\\omega-f$', r\"$\\phi-f'$\"]\n",
    "ax.legend(L, H, frameon = False, loc = 'upper left', fontsize = 25)\n",
    "\n",
    "fig.tight_layout()\n",
    "fig.savefig('plots/trajectories.pdf')"
   ]
  },
  {
   "cell_type": "code",
   "execution_count": null,
   "metadata": {
    "collapsed": true
   },
   "outputs": [],
   "source": []
  }
 ],
 "metadata": {
  "kernelspec": {
   "display_name": "Python 2",
   "language": "python",
   "name": "python2"
  },
  "language_info": {
   "codemirror_mode": {
    "name": "ipython",
    "version": 2
   },
   "file_extension": ".py",
   "mimetype": "text/x-python",
   "name": "python",
   "nbconvert_exporter": "python",
   "pygments_lexer": "ipython2",
   "version": "2.7.13"
  }
 },
 "nbformat": 4,
 "nbformat_minor": 2
}
