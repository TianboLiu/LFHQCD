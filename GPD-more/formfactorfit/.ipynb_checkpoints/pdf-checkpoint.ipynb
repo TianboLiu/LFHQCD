{
 "cells": [
  {
   "cell_type": "code",
   "execution_count": 1,
   "metadata": {
    "collapsed": true
   },
   "outputs": [],
   "source": [
    "import numpy as np\n",
    "import scipy as sp\n",
    "import pandas as pd\n",
    "import matplotlib.pyplot as plt\n",
    "from matplotlib import rc\n",
    "%matplotlib inline\n",
    "rc('font', **{'family':'sans-serif','sans-serif':['Helvetica']})\n",
    "rc('text',usetex=True)\n",
    "from iminuit import Minuit\n",
    "from pprint import pprint\n",
    "from scipy.special import beta\n",
    "from scipy.misc import derivative\n",
    "import scipy.integrate as integrate"
   ]
  },
  {
   "cell_type": "markdown",
   "metadata": {},
   "source": [
    "# Functions"
   ]
  },
  {
   "cell_type": "code",
   "execution_count": 4,
   "metadata": {
    "collapsed": true
   },
   "outputs": [],
   "source": [
    "class Parameters:    \n",
    "    kappa = 0.533663\n",
    "    a0rho = 0.492113\n",
    "    a0omega = 0.5\n",
    "    a0phi = 0.014219\n",
    "    a0 = 0.5 - 0.1349770**2 / (4.0 * kappa**2)\n",
    "    mup = 2.7928473446\n",
    "    kap = mup - 1.0\n",
    "    mun = -1.9130427\n",
    "    kan = mun\n",
    "    Mp = 0.938272081\n",
    "    Mn = 0.939565413\n",
    "    kau = 2.0 * kap + kan\n",
    "    kad = kap + 2.0 * kan\n",
    "    Mpi = 0.1349770\n",
    "    normalweight = 1e6\n",
    "    \n",
    "    def __int__(self):\n",
    "        pass\n",
    "    \n",
    "    def reset(self):\n",
    "        self.kappa = Parameters.kappa\n",
    "        self.a0 = Parameters.a0\n",
    "    \n",
    "    def sample(self):\n",
    "        self.kappa = Parameters.kappa * np.random.normal(1.0, 0.05)\n",
    "        self.a0 = 0.5 - Parameters.Mpi**2 / (4.0 * self.kappa**2)\n",
    "    \n",
    "    def setkappa(self, kappa):\n",
    "        self.kappa = kappa\n",
    "        self.a0 = 0.5 - Parameters.Mpi**2 / (4.0 * kappa**2)\n",
    "           \n",
    "Par = Parameters()"
   ]
  },
  {
   "cell_type": "code",
   "execution_count": 5,
   "metadata": {
    "collapsed": true
   },
   "outputs": [],
   "source": [
    "def wx(x, a):\n",
    "    return x**(1.0 - x) * np.exp(-a * (1.0-x)**2)\n",
    "\n",
    "def dwx(x, a):\n",
    "    return x**(-x) * np.exp(-a * (1.0 - x)**2) * ((1.0 - x) * (1.0 + 2.0 * a * x) - x * np.log(x))"
   ]
  },
  {
   "cell_type": "code",
   "execution_count": 17,
   "metadata": {},
   "outputs": [
    {
     "data": {
      "image/png": "[encoded data removed]",
      "text/plain": [
       "<matplotlib.figure.Figure at 0x11ed84250>"
      ]
     },
     "metadata": {},
     "output_type": "display_data"
    }
   ],
   "source": [
    "nrows, ncols = 1, 1\n",
    "\n",
    "fig = plt.figure(figsize = (ncols * 7, nrows * 7 * 0.75))\n",
    "\n",
    "ax = fig.add_subplot(nrows, ncols, 1)\n",
    "X = np.linspace(0, 1, 100)\n",
    "ax.plot(X, wx(X, 0.531), color = 'red', linewidth = 2)\n",
    "ax.set_xlim(0, 1)\n",
    "ax.set_ylim(0, 1)\n",
    "ax.set_xlabel(r'$x$', size = 30)\n",
    "ax.set_ylabel(r'$w(x)$', size = 30)\n",
    "ax.tick_params(axis = 'both', which = 'both', direction = 'in', length = 6, labelsize = 25)\n",
    "\n",
    "fig.tight_layout()"
   ]
  },
  {
   "cell_type": "code",
   "execution_count": 54,
   "metadata": {
    "collapsed": true
   },
   "outputs": [],
   "source": [
    "def qx(x, a, tau):\n",
    "    return (wx(x, a)**(-Par.a0) * (1.0 - wx(x, a))**(tau - 2) * dwx(x, a)) / beta(tau - 1.0, 1.0 - Par.a0)"
   ]
  },
  {
   "cell_type": "code",
   "execution_count": 55,
   "metadata": {},
   "outputs": [
    {
     "data": {
      "image/png": "[encoded data removed]",
      "text/plain": [
       "<matplotlib.figure.Figure at 0x11ed864d0>"
      ]
     },
     "metadata": {},
     "output_type": "display_data"
    }
   ],
   "source": [
    "nrows, ncols = 1, 1\n",
    "\n",
    "fig = plt.figure(figsize=(ncols * 7, nrows * 7 * 0.75))\n",
    "ax = fig.add_subplot(nrows, ncols, 1)\n",
    "X = 10**np.linspace(-4, 0, 100)\n",
    "ax.plot(X, X * qx(X, 0.531, 3), color = 'red', linewidth = 2)\n",
    "ax.set_xlim(1e-4, 1)\n",
    "ax.set_ylim(0, 1)\n",
    "ax.set_xscale('log')\n",
    "ax.set_xlabel(r'$x$', size = 30)\n",
    "ax.set_ylabel(r'$xq_3(x)$', size = 30)\n",
    "ax.tick_params(axis = 'both', which = 'both', direction = 'in', length = 6, labelsize = 25)\n",
    "\n",
    "fig.tight_layout()"
   ]
  },
  {
   "cell_type": "markdown",
   "metadata": {},
   "source": [
    "# Fit"
   ]
  },
  {
   "cell_type": "code",
   "execution_count": 56,
   "metadata": {
    "collapsed": true
   },
   "outputs": [],
   "source": [
    "u3 =  1.661411e+00\n",
    "u4 =  1.067049e-05\n",
    "u5 =  4.541289e-06\n",
    "u6 =  3.385740e-01\n",
    "d3 =  9.002607e-05\n",
    "d4 =  5.354819e-01\n",
    "d5 =  1.398545e-05\n",
    "d6 =  4.644142e-01"
   ]
  },
  {
   "cell_type": "code",
   "execution_count": 57,
   "metadata": {
    "collapsed": true
   },
   "outputs": [],
   "source": [
    "def uv(x, a):\n",
    "    return u3 * qx(x, a, 3) + u4 * qx(x, a, 4) + u5 * qx(x, a, 5) + u6 * qx(x, a, 6)\n",
    "\n",
    "def dv(x, a):\n",
    "    return d3 * qx(x, a, 3) + d4 * qx(x, a, 4) + d5 * qx(x, a, 5) + d6 * qx(x, a, 6)\n",
    "\n",
    "def xuv(x, a):\n",
    "    return x * uv(x, a)\n",
    "\n",
    "def xdv(x, a):\n",
    "    return x * dv(x, a)\n",
    "\n",
    "def uv_M1(a):\n",
    "    return integrate.quad(xuv, 0, 1, args=a)[0]\n",
    "\n",
    "def dv_M1(a):\n",
    "    return integrate.quad(xdv, 0, 1, args=a)[0]"
   ]
  },
  {
   "cell_type": "code",
   "execution_count": 58,
   "metadata": {},
   "outputs": [],
   "source": [
    "def chi2(par):\n",
    "    M1uv = (0.2946 + 0.3431 + 0.3390) / 3\n",
    "    M1dv = (0.1204 + 0.1447 + 0.1418) / 3\n",
    "    a = par[0]\n",
    "    return (uv_M1(a) - M1uv)**2 + (dv_M1(a) - M1dv)**2"
   ]
  },
  {
   "cell_type": "code",
   "execution_count": 59,
   "metadata": {},
   "outputs": [],
   "source": [
    "Min = Minuit.from_array_func(chi2, start = (0.5, ),\\\n",
    "                             name = ('a', ),\\\n",
    "                             error = (0.001, ),\\\n",
    "                             errordef = 1,\\\n",
    "                             fix = (False, ),\\\n",
    "                             limit = (None, ))"
   ]
  },
  {
   "cell_type": "code",
   "execution_count": 60,
   "metadata": {},
   "outputs": [
    {
     "data": {
      "text/html": [
       "<hr>"
      ]
     },
     "metadata": {},
     "output_type": "display_data"
    },
    {
     "data": {
      "text/html": [
       "<table>\n",
       "    <tr>\n",
       "        <td title=\"Minimum value of function\">FCN = 0.000444952879593</td>\n",
       "        <td title=\"Total number of call to FCN so far\">TOTAL NCALL = 15</td>\n",
       "        <td title=\"Number of call in last migrad\">NCALLS = 15</td>\n",
       "    </tr>\n",
       "    <tr>\n",
       "        <td title=\"Estimated distance to minimum\">EDM = 5.47622617964e-10</td>\n",
       "        <td title=\"Maximum EDM definition of convergence\">GOAL EDM = 1e-05</td>\n",
       "        <td title=\"Error def. Amount of increase in FCN to be defined as 1 standard deviation\">\n",
       "        UP = 1.0</td>\n",
       "    </tr>\n",
       "</table>\n",
       "<table>\n",
       "    <tr>\n",
       "        <td align=\"center\" title=\"Validity of the migrad call\">Valid</td>\n",
       "        <td align=\"center\" title=\"Validity of parameters\">Valid Param</td>\n",
       "        <td align=\"center\" title=\"Is Covariance matrix accurate?\">Accurate Covar</td>\n",
       "        <td align=\"center\" title=\"Positive definiteness of covariance matrix\">PosDef</td>\n",
       "        <td align=\"center\" title=\"Was covariance matrix made posdef by adding diagonal element\">Made PosDef</td>\n",
       "    </tr>\n",
       "    <tr>\n",
       "        <td align=\"center\" style=\"background-color:#92CCA6\">True</td>\n",
       "        <td align=\"center\" style=\"background-color:#92CCA6\">True</td>\n",
       "        <td align=\"center\" style=\"background-color:#92CCA6\">True</td>\n",
       "        <td align=\"center\" style=\"background-color:#92CCA6\">True</td>\n",
       "        <td align=\"center\" style=\"background-color:#92CCA6\">False</td>\n",
       "    </tr>\n",
       "    <tr>\n",
       "        <td align=\"center\" title=\"Was last hesse call fail?\">Hesse Fail</td>\n",
       "        <td align=\"center\" title=\"Validity of covariance\">HasCov</td>\n",
       "        <td align=\"center\" title=\"Is EDM above goal EDM?\">Above EDM</td>\n",
       "        <td align=\"center\"></td>\n",
       "        <td align=\"center\" title=\"Did last migrad call reach max call limit?\">Reach calllim</td>\n",
       "    </tr>\n",
       "    <tr>\n",
       "        <td align=\"center\" style=\"background-color:#92CCA6\">False</td>\n",
       "        <td align=\"center\" style=\"background-color:#92CCA6\">True</td>\n",
       "        <td align=\"center\" style=\"background-color:#92CCA6\">False</td>\n",
       "        <td align=\"center\"></td>\n",
       "        <td align=\"center\" style=\"background-color:#92CCA6\">False</td>\n",
       "    </tr>\n",
       "</table>"
      ]
     },
     "metadata": {},
     "output_type": "display_data"
    },
    {
     "data": {
      "text/html": [
       "<table>\n",
       "    <tr>\n",
       "        <td><a href=\"#\" onclick=\"$('#VCauwaLASl').toggle()\">+</a></td>\n",
       "        <td title=\"Variable name\">Name</td>\n",
       "        <td title=\"Value of parameter\">Value</td>\n",
       "        <td title=\"Hesse error\">Hesse Error</td>\n",
       "        <td title=\"Minos lower error\">Minos Error-</td>\n",
       "        <td title=\"Minos upper error\">Minos Error+</td>\n",
       "        <td title=\"Lower limit of the parameter\">Limit-</td>\n",
       "        <td title=\"Upper limit of the parameter\">Limit+</td>\n",
       "        <td title=\"Is the parameter fixed in the fit\">Fixed?</td>\n",
       "    </tr>\n",
       "    <tr>\n",
       "        <td>0</td>\n",
       "        <td>a</td>\n",
       "        <td>0.438052</td>\n",
       "        <td>6.77027</td>\n",
       "        <td></td>\n",
       "        <td></td>\n",
       "        <td></td>\n",
       "        <td></td>\n",
       "        <td>No</td>\n",
       "    </tr>\n",
       "</table>\n",
       "<pre id=\"VCauwaLASl\" style=\"display:none;\">\n",
       "<textarea rows=\"8\" cols=\"50\" onclick=\"this.select()\" readonly>\n",
       "\\begin{tabular}{|c|r|r|r|r|r|r|r|c|}\n",
       "\\hline\n",
       " & Name & Value & Hesse Error & Minos Error- & Minos Error+ & Limit- & Limit+ & Fixed?\\\\\n",
       "\\hline\n",
       "0 & a & 0.438052 & 6.77027 &  &  &  &  & No\\\\\n",
       "\\hline\n",
       "\\end{tabular}\n",
       "</textarea>\n",
       "</pre>"
      ]
     },
     "metadata": {},
     "output_type": "display_data"
    },
    {
     "data": {
      "text/html": [
       "<hr>"
      ]
     },
     "metadata": {},
     "output_type": "display_data"
    }
   ],
   "source": [
    "Min.print_level = 1\n",
    "fmin, fpar = Min.migrad(ncall=100000)"
   ]
  },
  {
   "cell_type": "code",
   "execution_count": 63,
   "metadata": {},
   "outputs": [
    {
     "data": {
      "image/png": "[encoded data removed]",
      "text/plain": [
       "<matplotlib.figure.Figure at 0x11fdcb0d0>"
      ]
     },
     "metadata": {},
     "output_type": "display_data"
    }
   ],
   "source": [
    "nrows, ncols = 1, 1\n",
    "\n",
    "fig = plt.figure(figsize = (ncols * 7, nrows * 7))\n",
    "ax = fig.add_subplot(nrows, ncols, 1)\n",
    "X = 10**np.linspace(-4, 0, 100)\n",
    "ax.plot(X, X * uv(X, 0.004), color = 'red', linewidth = 2, linestyle = '-')\n",
    "ax.plot(X, X * dv(X, 0.004), color = 'blue', linewidth = 2, linestyle = '--')\n",
    "ax.set_xlim(1e-4, 1)\n",
    "ax.set_ylim(0, 1)\n",
    "ax.set_xlabel(r'$x$', size=30)\n",
    "ax.set_ylabel(r'$xq_v(x)$', size=30)\n",
    "ax.set_xscale('log')\n",
    "ax.tick_params(axis='both', which = 'both', direction = 'in', length = 6, labelsize = 25)\n",
    "\n",
    "fig.tight_layout()\n",
    "\n"
   ]
  },
  {
   "cell_type": "code",
   "execution_count": null,
   "metadata": {
    "collapsed": true
   },
   "outputs": [],
   "source": []
  }
 ],
 "metadata": {
  "kernelspec": {
   "display_name": "Python 2",
   "language": "python",
   "name": "python2"
  },
  "language_info": {
   "codemirror_mode": {
    "name": "ipython",
    "version": 2
   },
   "file_extension": ".py",
   "mimetype": "text/x-python",
   "name": "python",
   "nbconvert_exporter": "python",
   "pygments_lexer": "ipython2",
   "version": "2.7.13"
  }
 },
 "nbformat": 4,
 "nbformat_minor": 2
}
